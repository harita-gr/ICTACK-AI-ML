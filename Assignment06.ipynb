{
  "nbformat": 4,
  "nbformat_minor": 0,
  "metadata": {
    "colab": {
      "provenance": [],
      "gpuType": "T4",
      "authorship_tag": "ABX9TyOLr+4ROZO+8B6TJ91i3DVl",
      "include_colab_link": true
    },
    "kernelspec": {
      "name": "python3",
      "display_name": "Python 3"
    },
    "language_info": {
      "name": "python"
    },
    "accelerator": "GPU"
  },
  "cells": [
    {
      "cell_type": "markdown",
      "metadata": {
        "id": "view-in-github",
        "colab_type": "text"
      },
      "source": [
        "<a href=\"https://colab.research.google.com/github/harita-gr/ICTACK-AI-ML/blob/main/Assignment06.ipynb\" target=\"_parent\"><img src=\"https://colab.research.google.com/assets/colab-badge.svg\" alt=\"Open In Colab\"/></a>"
      ]
    },
    {
      "cell_type": "code",
      "execution_count": 1,
      "metadata": {
        "id": "t-gBD5kpf-lU"
      },
      "outputs": [],
      "source": [
        "import pandas as pd\n",
        "import numpy as np\n",
        "import tensorflow as tf"
      ]
    },
    {
      "cell_type": "code",
      "source": [
        "data = pd.read_csv(\"/content/mobile_price_classification.csv\")"
      ],
      "metadata": {
        "id": "eFYLkeJegOL1"
      },
      "execution_count": 2,
      "outputs": []
    },
    {
      "cell_type": "markdown",
      "source": [
        "## 1. Data Preparation"
      ],
      "metadata": {
        "id": "CLDURBPiipYC"
      }
    },
    {
      "cell_type": "code",
      "source": [
        "data.head()"
      ],
      "metadata": {
        "colab": {
          "base_uri": "https://localhost:8080/",
          "height": 255
        },
        "id": "1Ysku5HXgWBZ",
        "outputId": "2c9133b7-af21-402b-cd86-2a1e31504d92"
      },
      "execution_count": 3,
      "outputs": [
        {
          "output_type": "execute_result",
          "data": {
            "text/plain": [
              "   battery_power  bluetooth  clock_speed  dual_sim  front_cam  4G  int_memory  \\\n",
              "0            842          0          2.2         0          1   0           7   \n",
              "1           1021          1          0.5         1          0   1          53   \n",
              "2            563          1          0.5         1          2   1          41   \n",
              "3            615          1          2.5         0          0   0          10   \n",
              "4           1821          1          1.2         0         13   1          44   \n",
              "\n",
              "   m_dep  mobile_wt  n_cores  ...  px_height  px_width   ram  sc_h  sc_w  \\\n",
              "0    0.6        188        2  ...         20       756  2549     9     7   \n",
              "1    0.7        136        3  ...        905      1988  2631    17     3   \n",
              "2    0.9        145        5  ...       1263      1716  2603    11     2   \n",
              "3    0.8        131        6  ...       1216      1786  2769    16     8   \n",
              "4    0.6        141        2  ...       1208      1212  1411     8     2   \n",
              "\n",
              "   talk_time  three_g  touch_screen  wifi  price_range  \n",
              "0         19        0             0     1            1  \n",
              "1          7        1             1     0            2  \n",
              "2          9        1             1     0            2  \n",
              "3         11        1             0     0            2  \n",
              "4         15        1             1     0            1  \n",
              "\n",
              "[5 rows x 21 columns]"
            ],
            "text/html": [
              "\n",
              "  <div id=\"df-15b78012-715a-4f1d-b2c8-b639af625360\" class=\"colab-df-container\">\n",
              "    <div>\n",
              "<style scoped>\n",
              "    .dataframe tbody tr th:only-of-type {\n",
              "        vertical-align: middle;\n",
              "    }\n",
              "\n",
              "    .dataframe tbody tr th {\n",
              "        vertical-align: top;\n",
              "    }\n",
              "\n",
              "    .dataframe thead th {\n",
              "        text-align: right;\n",
              "    }\n",
              "</style>\n",
              "<table border=\"1\" class=\"dataframe\">\n",
              "  <thead>\n",
              "    <tr style=\"text-align: right;\">\n",
              "      <th></th>\n",
              "      <th>battery_power</th>\n",
              "      <th>bluetooth</th>\n",
              "      <th>clock_speed</th>\n",
              "      <th>dual_sim</th>\n",
              "      <th>front_cam</th>\n",
              "      <th>4G</th>\n",
              "      <th>int_memory</th>\n",
              "      <th>m_dep</th>\n",
              "      <th>mobile_wt</th>\n",
              "      <th>n_cores</th>\n",
              "      <th>...</th>\n",
              "      <th>px_height</th>\n",
              "      <th>px_width</th>\n",
              "      <th>ram</th>\n",
              "      <th>sc_h</th>\n",
              "      <th>sc_w</th>\n",
              "      <th>talk_time</th>\n",
              "      <th>three_g</th>\n",
              "      <th>touch_screen</th>\n",
              "      <th>wifi</th>\n",
              "      <th>price_range</th>\n",
              "    </tr>\n",
              "  </thead>\n",
              "  <tbody>\n",
              "    <tr>\n",
              "      <th>0</th>\n",
              "      <td>842</td>\n",
              "      <td>0</td>\n",
              "      <td>2.2</td>\n",
              "      <td>0</td>\n",
              "      <td>1</td>\n",
              "      <td>0</td>\n",
              "      <td>7</td>\n",
              "      <td>0.6</td>\n",
              "      <td>188</td>\n",
              "      <td>2</td>\n",
              "      <td>...</td>\n",
              "      <td>20</td>\n",
              "      <td>756</td>\n",
              "      <td>2549</td>\n",
              "      <td>9</td>\n",
              "      <td>7</td>\n",
              "      <td>19</td>\n",
              "      <td>0</td>\n",
              "      <td>0</td>\n",
              "      <td>1</td>\n",
              "      <td>1</td>\n",
              "    </tr>\n",
              "    <tr>\n",
              "      <th>1</th>\n",
              "      <td>1021</td>\n",
              "      <td>1</td>\n",
              "      <td>0.5</td>\n",
              "      <td>1</td>\n",
              "      <td>0</td>\n",
              "      <td>1</td>\n",
              "      <td>53</td>\n",
              "      <td>0.7</td>\n",
              "      <td>136</td>\n",
              "      <td>3</td>\n",
              "      <td>...</td>\n",
              "      <td>905</td>\n",
              "      <td>1988</td>\n",
              "      <td>2631</td>\n",
              "      <td>17</td>\n",
              "      <td>3</td>\n",
              "      <td>7</td>\n",
              "      <td>1</td>\n",
              "      <td>1</td>\n",
              "      <td>0</td>\n",
              "      <td>2</td>\n",
              "    </tr>\n",
              "    <tr>\n",
              "      <th>2</th>\n",
              "      <td>563</td>\n",
              "      <td>1</td>\n",
              "      <td>0.5</td>\n",
              "      <td>1</td>\n",
              "      <td>2</td>\n",
              "      <td>1</td>\n",
              "      <td>41</td>\n",
              "      <td>0.9</td>\n",
              "      <td>145</td>\n",
              "      <td>5</td>\n",
              "      <td>...</td>\n",
              "      <td>1263</td>\n",
              "      <td>1716</td>\n",
              "      <td>2603</td>\n",
              "      <td>11</td>\n",
              "      <td>2</td>\n",
              "      <td>9</td>\n",
              "      <td>1</td>\n",
              "      <td>1</td>\n",
              "      <td>0</td>\n",
              "      <td>2</td>\n",
              "    </tr>\n",
              "    <tr>\n",
              "      <th>3</th>\n",
              "      <td>615</td>\n",
              "      <td>1</td>\n",
              "      <td>2.5</td>\n",
              "      <td>0</td>\n",
              "      <td>0</td>\n",
              "      <td>0</td>\n",
              "      <td>10</td>\n",
              "      <td>0.8</td>\n",
              "      <td>131</td>\n",
              "      <td>6</td>\n",
              "      <td>...</td>\n",
              "      <td>1216</td>\n",
              "      <td>1786</td>\n",
              "      <td>2769</td>\n",
              "      <td>16</td>\n",
              "      <td>8</td>\n",
              "      <td>11</td>\n",
              "      <td>1</td>\n",
              "      <td>0</td>\n",
              "      <td>0</td>\n",
              "      <td>2</td>\n",
              "    </tr>\n",
              "    <tr>\n",
              "      <th>4</th>\n",
              "      <td>1821</td>\n",
              "      <td>1</td>\n",
              "      <td>1.2</td>\n",
              "      <td>0</td>\n",
              "      <td>13</td>\n",
              "      <td>1</td>\n",
              "      <td>44</td>\n",
              "      <td>0.6</td>\n",
              "      <td>141</td>\n",
              "      <td>2</td>\n",
              "      <td>...</td>\n",
              "      <td>1208</td>\n",
              "      <td>1212</td>\n",
              "      <td>1411</td>\n",
              "      <td>8</td>\n",
              "      <td>2</td>\n",
              "      <td>15</td>\n",
              "      <td>1</td>\n",
              "      <td>1</td>\n",
              "      <td>0</td>\n",
              "      <td>1</td>\n",
              "    </tr>\n",
              "  </tbody>\n",
              "</table>\n",
              "<p>5 rows × 21 columns</p>\n",
              "</div>\n",
              "    <div class=\"colab-df-buttons\">\n",
              "\n",
              "  <div class=\"colab-df-container\">\n",
              "    <button class=\"colab-df-convert\" onclick=\"convertToInteractive('df-15b78012-715a-4f1d-b2c8-b639af625360')\"\n",
              "            title=\"Convert this dataframe to an interactive table.\"\n",
              "            style=\"display:none;\">\n",
              "\n",
              "  <svg xmlns=\"http://www.w3.org/2000/svg\" height=\"24px\" viewBox=\"0 -960 960 960\">\n",
              "    <path d=\"M120-120v-720h720v720H120Zm60-500h600v-160H180v160Zm220 220h160v-160H400v160Zm0 220h160v-160H400v160ZM180-400h160v-160H180v160Zm440 0h160v-160H620v160ZM180-180h160v-160H180v160Zm440 0h160v-160H620v160Z\"/>\n",
              "  </svg>\n",
              "    </button>\n",
              "\n",
              "  <style>\n",
              "    .colab-df-container {\n",
              "      display:flex;\n",
              "      gap: 12px;\n",
              "    }\n",
              "\n",
              "    .colab-df-convert {\n",
              "      background-color: #E8F0FE;\n",
              "      border: none;\n",
              "      border-radius: 50%;\n",
              "      cursor: pointer;\n",
              "      display: none;\n",
              "      fill: #1967D2;\n",
              "      height: 32px;\n",
              "      padding: 0 0 0 0;\n",
              "      width: 32px;\n",
              "    }\n",
              "\n",
              "    .colab-df-convert:hover {\n",
              "      background-color: #E2EBFA;\n",
              "      box-shadow: 0px 1px 2px rgba(60, 64, 67, 0.3), 0px 1px 3px 1px rgba(60, 64, 67, 0.15);\n",
              "      fill: #174EA6;\n",
              "    }\n",
              "\n",
              "    .colab-df-buttons div {\n",
              "      margin-bottom: 4px;\n",
              "    }\n",
              "\n",
              "    [theme=dark] .colab-df-convert {\n",
              "      background-color: #3B4455;\n",
              "      fill: #D2E3FC;\n",
              "    }\n",
              "\n",
              "    [theme=dark] .colab-df-convert:hover {\n",
              "      background-color: #434B5C;\n",
              "      box-shadow: 0px 1px 3px 1px rgba(0, 0, 0, 0.15);\n",
              "      filter: drop-shadow(0px 1px 2px rgba(0, 0, 0, 0.3));\n",
              "      fill: #FFFFFF;\n",
              "    }\n",
              "  </style>\n",
              "\n",
              "    <script>\n",
              "      const buttonEl =\n",
              "        document.querySelector('#df-15b78012-715a-4f1d-b2c8-b639af625360 button.colab-df-convert');\n",
              "      buttonEl.style.display =\n",
              "        google.colab.kernel.accessAllowed ? 'block' : 'none';\n",
              "\n",
              "      async function convertToInteractive(key) {\n",
              "        const element = document.querySelector('#df-15b78012-715a-4f1d-b2c8-b639af625360');\n",
              "        const dataTable =\n",
              "          await google.colab.kernel.invokeFunction('convertToInteractive',\n",
              "                                                    [key], {});\n",
              "        if (!dataTable) return;\n",
              "\n",
              "        const docLinkHtml = 'Like what you see? Visit the ' +\n",
              "          '<a target=\"_blank\" href=https://colab.research.google.com/notebooks/data_table.ipynb>data table notebook</a>'\n",
              "          + ' to learn more about interactive tables.';\n",
              "        element.innerHTML = '';\n",
              "        dataTable['output_type'] = 'display_data';\n",
              "        await google.colab.output.renderOutput(dataTable, element);\n",
              "        const docLink = document.createElement('div');\n",
              "        docLink.innerHTML = docLinkHtml;\n",
              "        element.appendChild(docLink);\n",
              "      }\n",
              "    </script>\n",
              "  </div>\n",
              "\n",
              "\n",
              "<div id=\"df-ad24acc2-ee49-4e0a-b44e-aeb49a3ce09b\">\n",
              "  <button class=\"colab-df-quickchart\" onclick=\"quickchart('df-ad24acc2-ee49-4e0a-b44e-aeb49a3ce09b')\"\n",
              "            title=\"Suggest charts\"\n",
              "            style=\"display:none;\">\n",
              "\n",
              "<svg xmlns=\"http://www.w3.org/2000/svg\" height=\"24px\"viewBox=\"0 0 24 24\"\n",
              "     width=\"24px\">\n",
              "    <g>\n",
              "        <path d=\"M19 3H5c-1.1 0-2 .9-2 2v14c0 1.1.9 2 2 2h14c1.1 0 2-.9 2-2V5c0-1.1-.9-2-2-2zM9 17H7v-7h2v7zm4 0h-2V7h2v10zm4 0h-2v-4h2v4z\"/>\n",
              "    </g>\n",
              "</svg>\n",
              "  </button>\n",
              "\n",
              "<style>\n",
              "  .colab-df-quickchart {\n",
              "      --bg-color: #E8F0FE;\n",
              "      --fill-color: #1967D2;\n",
              "      --hover-bg-color: #E2EBFA;\n",
              "      --hover-fill-color: #174EA6;\n",
              "      --disabled-fill-color: #AAA;\n",
              "      --disabled-bg-color: #DDD;\n",
              "  }\n",
              "\n",
              "  [theme=dark] .colab-df-quickchart {\n",
              "      --bg-color: #3B4455;\n",
              "      --fill-color: #D2E3FC;\n",
              "      --hover-bg-color: #434B5C;\n",
              "      --hover-fill-color: #FFFFFF;\n",
              "      --disabled-bg-color: #3B4455;\n",
              "      --disabled-fill-color: #666;\n",
              "  }\n",
              "\n",
              "  .colab-df-quickchart {\n",
              "    background-color: var(--bg-color);\n",
              "    border: none;\n",
              "    border-radius: 50%;\n",
              "    cursor: pointer;\n",
              "    display: none;\n",
              "    fill: var(--fill-color);\n",
              "    height: 32px;\n",
              "    padding: 0;\n",
              "    width: 32px;\n",
              "  }\n",
              "\n",
              "  .colab-df-quickchart:hover {\n",
              "    background-color: var(--hover-bg-color);\n",
              "    box-shadow: 0 1px 2px rgba(60, 64, 67, 0.3), 0 1px 3px 1px rgba(60, 64, 67, 0.15);\n",
              "    fill: var(--button-hover-fill-color);\n",
              "  }\n",
              "\n",
              "  .colab-df-quickchart-complete:disabled,\n",
              "  .colab-df-quickchart-complete:disabled:hover {\n",
              "    background-color: var(--disabled-bg-color);\n",
              "    fill: var(--disabled-fill-color);\n",
              "    box-shadow: none;\n",
              "  }\n",
              "\n",
              "  .colab-df-spinner {\n",
              "    border: 2px solid var(--fill-color);\n",
              "    border-color: transparent;\n",
              "    border-bottom-color: var(--fill-color);\n",
              "    animation:\n",
              "      spin 1s steps(1) infinite;\n",
              "  }\n",
              "\n",
              "  @keyframes spin {\n",
              "    0% {\n",
              "      border-color: transparent;\n",
              "      border-bottom-color: var(--fill-color);\n",
              "      border-left-color: var(--fill-color);\n",
              "    }\n",
              "    20% {\n",
              "      border-color: transparent;\n",
              "      border-left-color: var(--fill-color);\n",
              "      border-top-color: var(--fill-color);\n",
              "    }\n",
              "    30% {\n",
              "      border-color: transparent;\n",
              "      border-left-color: var(--fill-color);\n",
              "      border-top-color: var(--fill-color);\n",
              "      border-right-color: var(--fill-color);\n",
              "    }\n",
              "    40% {\n",
              "      border-color: transparent;\n",
              "      border-right-color: var(--fill-color);\n",
              "      border-top-color: var(--fill-color);\n",
              "    }\n",
              "    60% {\n",
              "      border-color: transparent;\n",
              "      border-right-color: var(--fill-color);\n",
              "    }\n",
              "    80% {\n",
              "      border-color: transparent;\n",
              "      border-right-color: var(--fill-color);\n",
              "      border-bottom-color: var(--fill-color);\n",
              "    }\n",
              "    90% {\n",
              "      border-color: transparent;\n",
              "      border-bottom-color: var(--fill-color);\n",
              "    }\n",
              "  }\n",
              "</style>\n",
              "\n",
              "  <script>\n",
              "    async function quickchart(key) {\n",
              "      const quickchartButtonEl =\n",
              "        document.querySelector('#' + key + ' button');\n",
              "      quickchartButtonEl.disabled = true;  // To prevent multiple clicks.\n",
              "      quickchartButtonEl.classList.add('colab-df-spinner');\n",
              "      try {\n",
              "        const charts = await google.colab.kernel.invokeFunction(\n",
              "            'suggestCharts', [key], {});\n",
              "      } catch (error) {\n",
              "        console.error('Error during call to suggestCharts:', error);\n",
              "      }\n",
              "      quickchartButtonEl.classList.remove('colab-df-spinner');\n",
              "      quickchartButtonEl.classList.add('colab-df-quickchart-complete');\n",
              "    }\n",
              "    (() => {\n",
              "      let quickchartButtonEl =\n",
              "        document.querySelector('#df-ad24acc2-ee49-4e0a-b44e-aeb49a3ce09b button');\n",
              "      quickchartButtonEl.style.display =\n",
              "        google.colab.kernel.accessAllowed ? 'block' : 'none';\n",
              "    })();\n",
              "  </script>\n",
              "</div>\n",
              "\n",
              "    </div>\n",
              "  </div>\n"
            ],
            "application/vnd.google.colaboratory.intrinsic+json": {
              "type": "dataframe",
              "variable_name": "data"
            }
          },
          "metadata": {},
          "execution_count": 3
        }
      ]
    },
    {
      "cell_type": "code",
      "source": [
        "data.shape"
      ],
      "metadata": {
        "colab": {
          "base_uri": "https://localhost:8080/"
        },
        "id": "f9pGBO3DgdQ0",
        "outputId": "999bea88-7519-4a3a-e23d-7a20ea31e621"
      },
      "execution_count": 4,
      "outputs": [
        {
          "output_type": "execute_result",
          "data": {
            "text/plain": [
              "(2000, 21)"
            ]
          },
          "metadata": {},
          "execution_count": 4
        }
      ]
    },
    {
      "cell_type": "code",
      "source": [
        "data.columns"
      ],
      "metadata": {
        "colab": {
          "base_uri": "https://localhost:8080/"
        },
        "id": "c7t3qIPegedW",
        "outputId": "669d86f2-951f-4cae-9138-8ebd6fb44209"
      },
      "execution_count": 5,
      "outputs": [
        {
          "output_type": "execute_result",
          "data": {
            "text/plain": [
              "Index(['battery_power', 'bluetooth', 'clock_speed', 'dual_sim', 'front_cam',\n",
              "       '4G', 'int_memory', 'm_dep', 'mobile_wt', 'n_cores', 'primary_camera',\n",
              "       'px_height', 'px_width', 'ram', 'sc_h', 'sc_w', 'talk_time', 'three_g',\n",
              "       'touch_screen', 'wifi', 'price_range'],\n",
              "      dtype='object')"
            ]
          },
          "metadata": {},
          "execution_count": 5
        }
      ]
    },
    {
      "cell_type": "code",
      "source": [
        "data.dtypes"
      ],
      "metadata": {
        "colab": {
          "base_uri": "https://localhost:8080/"
        },
        "id": "ZDa5TW95hoQC",
        "outputId": "dade8517-666a-496d-b5a4-41d6015d085b"
      },
      "execution_count": 6,
      "outputs": [
        {
          "output_type": "execute_result",
          "data": {
            "text/plain": [
              "battery_power       int64\n",
              "bluetooth           int64\n",
              "clock_speed       float64\n",
              "dual_sim            int64\n",
              "front_cam           int64\n",
              "4G                  int64\n",
              "int_memory          int64\n",
              "m_dep             float64\n",
              "mobile_wt           int64\n",
              "n_cores             int64\n",
              "primary_camera      int64\n",
              "px_height           int64\n",
              "px_width            int64\n",
              "ram                 int64\n",
              "sc_h                int64\n",
              "sc_w                int64\n",
              "talk_time           int64\n",
              "three_g             int64\n",
              "touch_screen        int64\n",
              "wifi                int64\n",
              "price_range         int64\n",
              "dtype: object"
            ]
          },
          "metadata": {},
          "execution_count": 6
        }
      ]
    },
    {
      "cell_type": "code",
      "source": [
        "data.isna().sum()"
      ],
      "metadata": {
        "colab": {
          "base_uri": "https://localhost:8080/"
        },
        "id": "kthJ0rl3gf9R",
        "outputId": "6b5da3c1-0d4c-4176-8978-759221ae05b9"
      },
      "execution_count": 7,
      "outputs": [
        {
          "output_type": "execute_result",
          "data": {
            "text/plain": [
              "battery_power     0\n",
              "bluetooth         0\n",
              "clock_speed       0\n",
              "dual_sim          0\n",
              "front_cam         0\n",
              "4G                0\n",
              "int_memory        0\n",
              "m_dep             0\n",
              "mobile_wt         0\n",
              "n_cores           0\n",
              "primary_camera    0\n",
              "px_height         0\n",
              "px_width          0\n",
              "ram               0\n",
              "sc_h              0\n",
              "sc_w              0\n",
              "talk_time         0\n",
              "three_g           0\n",
              "touch_screen      0\n",
              "wifi              0\n",
              "price_range       0\n",
              "dtype: int64"
            ]
          },
          "metadata": {},
          "execution_count": 7
        }
      ]
    },
    {
      "cell_type": "code",
      "source": [
        "data['price_range'].nunique()"
      ],
      "metadata": {
        "colab": {
          "base_uri": "https://localhost:8080/"
        },
        "id": "321AmDULhH6D",
        "outputId": "68cb3d53-ece1-4d0d-b1f7-f9bb4ab6aad5"
      },
      "execution_count": 8,
      "outputs": [
        {
          "output_type": "execute_result",
          "data": {
            "text/plain": [
              "4"
            ]
          },
          "metadata": {},
          "execution_count": 8
        }
      ]
    },
    {
      "cell_type": "code",
      "source": [
        "data['price_range'].value_counts()"
      ],
      "metadata": {
        "colab": {
          "base_uri": "https://localhost:8080/"
        },
        "id": "GKqBtybvhOF4",
        "outputId": "0aac90fd-f9c5-49d1-8c80-5d2125aa5abb"
      },
      "execution_count": 9,
      "outputs": [
        {
          "output_type": "execute_result",
          "data": {
            "text/plain": [
              "1    500\n",
              "2    500\n",
              "3    500\n",
              "0    500\n",
              "Name: price_range, dtype: int64"
            ]
          },
          "metadata": {},
          "execution_count": 9
        }
      ]
    },
    {
      "cell_type": "markdown",
      "source": [
        "No missing values present in data.No further pre-processing required for the data set."
      ],
      "metadata": {
        "id": "n3doLHSohXNP"
      }
    },
    {
      "cell_type": "markdown",
      "source": [
        "## 2. Split the Dataset"
      ],
      "metadata": {
        "id": "TlLDCrgxisUJ"
      }
    },
    {
      "cell_type": "code",
      "source": [
        "# Separate features and labels\n",
        "X = data.drop('price_range', axis=1)\n",
        "y = data['price_range']"
      ],
      "metadata": {
        "id": "jac7bAHuhOAb"
      },
      "execution_count": 10,
      "outputs": []
    },
    {
      "cell_type": "code",
      "source": [
        "from sklearn.model_selection import train_test_split\n",
        "\n",
        "# Split the data\n",
        "X_train, X_test, y_train, y_test = train_test_split(X, y, test_size=0.2, random_state=42)"
      ],
      "metadata": {
        "id": "dVxt4I8ljPe7"
      },
      "execution_count": 11,
      "outputs": []
    },
    {
      "cell_type": "markdown",
      "source": [
        "## 3.  Build the Neural Network"
      ],
      "metadata": {
        "id": "tbr2EBKKj4YA"
      }
    },
    {
      "cell_type": "code",
      "source": [
        "from keras.models import Sequential\n",
        "from keras.layers import Dense"
      ],
      "metadata": {
        "id": "TF3T0qEejwuH"
      },
      "execution_count": 12,
      "outputs": []
    },
    {
      "cell_type": "markdown",
      "source": [
        "### Define the Model\n",
        "Use `Sequential` from Keras to start the model. Add Dense layers with activation function `ReLU` for hidden layers and `softmax` for the output layer, considering it's a multi-class classification task."
      ],
      "metadata": {
        "id": "PGS2UD5wkJui"
      }
    },
    {
      "cell_type": "code",
      "source": [
        "def create_model(optimizer = \"SGD\"):\n",
        "    model = Sequential()\n",
        "    model.add(Dense(12,input_shape=(X_train.shape[1],),activation=\"relu\"))\n",
        "    model.add(Dense(4, activation='softmax'))  # Assuming 'price_range' has 4 unique values\n",
        "\n",
        "    model.compile(loss=\"sparse_categorical_crossentropy\",optimizer=optimizer, metrics=['accuracy'])\n",
        "    return model"
      ],
      "metadata": {
        "id": "g7dpSNlckKME"
      },
      "execution_count": 13,
      "outputs": []
    },
    {
      "cell_type": "markdown",
      "source": [
        "### Wrap the Model with KerasClassifier"
      ],
      "metadata": {
        "id": "UGd3sqmc9M2w"
      }
    },
    {
      "cell_type": "code",
      "source": [
        "!pip install scikeras\n",
        "from scikeras.wrappers import KerasClassifier"
      ],
      "metadata": {
        "colab": {
          "base_uri": "https://localhost:8080/"
        },
        "id": "Q97QK3VttV-q",
        "outputId": "7b97125b-44a1-4a3b-adbb-dfe718ef2632"
      },
      "execution_count": 14,
      "outputs": [
        {
          "output_type": "stream",
          "name": "stdout",
          "text": [
            "Collecting scikeras\n",
            "  Downloading scikeras-0.12.0-py3-none-any.whl (27 kB)\n",
            "Requirement already satisfied: packaging>=0.21 in /usr/local/lib/python3.10/dist-packages (from scikeras) (24.0)\n",
            "Requirement already satisfied: scikit-learn>=1.0.0 in /usr/local/lib/python3.10/dist-packages (from scikeras) (1.2.2)\n",
            "Requirement already satisfied: numpy>=1.17.3 in /usr/local/lib/python3.10/dist-packages (from scikit-learn>=1.0.0->scikeras) (1.25.2)\n",
            "Requirement already satisfied: scipy>=1.3.2 in /usr/local/lib/python3.10/dist-packages (from scikit-learn>=1.0.0->scikeras) (1.11.4)\n",
            "Requirement already satisfied: joblib>=1.1.1 in /usr/local/lib/python3.10/dist-packages (from scikit-learn>=1.0.0->scikeras) (1.3.2)\n",
            "Requirement already satisfied: threadpoolctl>=2.0.0 in /usr/local/lib/python3.10/dist-packages (from scikit-learn>=1.0.0->scikeras) (3.4.0)\n",
            "Installing collected packages: scikeras\n",
            "Successfully installed scikeras-0.12.0\n"
          ]
        }
      ]
    },
    {
      "cell_type": "code",
      "source": [
        "model = KerasClassifier(model = create_model, batch_size = 10, verbose = 0)"
      ],
      "metadata": {
        "id": "dy1UMVjXuGl7"
      },
      "execution_count": 15,
      "outputs": []
    },
    {
      "cell_type": "markdown",
      "source": [
        "### Define hyperparameters"
      ],
      "metadata": {
        "id": "SG3UWuCktqvR"
      }
    },
    {
      "cell_type": "code",
      "source": [
        "optimizer = ['SGD','Adam','Adamax','Nadam']\n",
        "epochs = [10,20,30]\n",
        "learn_rate = [0.001,0.01,0.1,0.2,0.3]\n",
        "\n",
        "param_grid = dict(model__optimizer = optimizer, optimizer__learning_rate=learn_rate,epochs=epochs)\n",
        "param_grid"
      ],
      "metadata": {
        "colab": {
          "base_uri": "https://localhost:8080/"
        },
        "id": "2-t2NUz-tmK0",
        "outputId": "065d853d-1007-40f8-e16d-0aaaf06d0f3d"
      },
      "execution_count": 16,
      "outputs": [
        {
          "output_type": "execute_result",
          "data": {
            "text/plain": [
              "{'model__optimizer': ['SGD', 'Adam', 'Adamax', 'Nadam'],\n",
              " 'optimizer__learning_rate': [0.001, 0.01, 0.1, 0.2, 0.3],\n",
              " 'epochs': [10, 20, 30]}"
            ]
          },
          "metadata": {},
          "execution_count": 16
        }
      ]
    },
    {
      "cell_type": "markdown",
      "source": [
        "### Finding the best hyperparameters"
      ],
      "metadata": {
        "id": "7FRVQKdM0D9Y"
      }
    },
    {
      "cell_type": "code",
      "source": [
        "from sklearn.model_selection import GridSearchCV\n",
        "\n",
        "grid = GridSearchCV(estimator=model, param_grid=param_grid, n_jobs=-1, cv=3)\n",
        "grid_result = grid.fit(X_train, y_train)"
      ],
      "metadata": {
        "colab": {
          "base_uri": "https://localhost:8080/"
        },
        "id": "3-zHs7Qft5F8",
        "outputId": "019f17e1-4d0b-4c35-a3aa-ff5386ba1eb4"
      },
      "execution_count": 17,
      "outputs": [
        {
          "output_type": "stream",
          "name": "stderr",
          "text": [
            "/usr/local/lib/python3.10/dist-packages/joblib/externals/loky/process_executor.py:752: UserWarning: A worker stopped while some jobs were given to the executor. This can be caused by a too short worker timeout or by a memory leak.\n",
            "  warnings.warn(\n"
          ]
        }
      ]
    },
    {
      "cell_type": "code",
      "source": [
        "print(\"Best %f using %s\"%(grid_result.best_score_,grid_result.best_params_))"
      ],
      "metadata": {
        "id": "hmvHWrwpz--3",
        "colab": {
          "base_uri": "https://localhost:8080/"
        },
        "outputId": "c875f49b-c478-49a5-865a-cd5f18bfd151"
      },
      "execution_count": 18,
      "outputs": [
        {
          "output_type": "stream",
          "name": "stdout",
          "text": [
            "Best 0.642491 using {'epochs': 20, 'model__optimizer': 'Nadam', 'optimizer__learning_rate': 0.001}\n"
          ]
        }
      ]
    },
    {
      "cell_type": "code",
      "source": [
        "best_params = grid_result.best_params_\n",
        "best_optimizer_name = best_params['model__optimizer']\n",
        "best_learning_rate = best_params['optimizer__learning_rate']\n",
        "best_epochs = best_params['epochs']"
      ],
      "metadata": {
        "id": "IZJatFrr2nXS"
      },
      "execution_count": 19,
      "outputs": []
    },
    {
      "cell_type": "markdown",
      "source": [
        "## 4. Build the model with the best hyperparameters\n"
      ],
      "metadata": {
        "id": "AwSxCCozz-rq"
      }
    },
    {
      "cell_type": "code",
      "source": [
        "from keras.optimizers import Nadam\n",
        "\n",
        "best_model = Sequential([\n",
        "    Dense(12, input_shape=(X_train.shape[1],), activation=\"relu\"),\n",
        "    Dense(4, activation='softmax')  # Suitable for a classification task with 4 classes\n",
        "])\n",
        "\n",
        "best_model.compile(\n",
        "    loss=\"sparse_categorical_crossentropy\",\n",
        "    optimizer=Nadam(learning_rate=best_learning_rate),\n",
        "    metrics=['accuracy']\n",
        ")\n",
        "\n",
        "best_model.fit(X_train, y_train, epochs=best_epochs, batch_size=10, verbose=1)"
      ],
      "metadata": {
        "id": "4gs3yHRqq44Y",
        "colab": {
          "base_uri": "https://localhost:8080/"
        },
        "outputId": "af5e0ae2-146e-4f39-b34a-c57c787014ec"
      },
      "execution_count": 20,
      "outputs": [
        {
          "output_type": "stream",
          "name": "stdout",
          "text": [
            "Epoch 1/20\n",
            "160/160 [==============================] - 2s 2ms/step - loss: 192.4769 - accuracy: 0.3781\n",
            "Epoch 2/20\n",
            "160/160 [==============================] - 0s 2ms/step - loss: 30.9748 - accuracy: 0.5019\n",
            "Epoch 3/20\n",
            "160/160 [==============================] - 0s 2ms/step - loss: 17.9286 - accuracy: 0.5188\n",
            "Epoch 4/20\n",
            "160/160 [==============================] - 0s 2ms/step - loss: 13.3283 - accuracy: 0.5031\n",
            "Epoch 5/20\n",
            "160/160 [==============================] - 0s 2ms/step - loss: 10.7248 - accuracy: 0.4913\n",
            "Epoch 6/20\n",
            "160/160 [==============================] - 0s 3ms/step - loss: 8.6117 - accuracy: 0.5188\n",
            "Epoch 7/20\n",
            "160/160 [==============================] - 0s 2ms/step - loss: 7.0534 - accuracy: 0.5263\n",
            "Epoch 8/20\n",
            "160/160 [==============================] - 0s 2ms/step - loss: 5.7992 - accuracy: 0.5375\n",
            "Epoch 9/20\n",
            "160/160 [==============================] - 0s 2ms/step - loss: 4.6016 - accuracy: 0.5437\n",
            "Epoch 10/20\n",
            "160/160 [==============================] - 0s 2ms/step - loss: 3.5908 - accuracy: 0.5487\n",
            "Epoch 11/20\n",
            "160/160 [==============================] - 0s 2ms/step - loss: 2.9276 - accuracy: 0.5244\n",
            "Epoch 12/20\n",
            "160/160 [==============================] - 0s 2ms/step - loss: 2.3478 - accuracy: 0.5225\n",
            "Epoch 13/20\n",
            "160/160 [==============================] - 0s 2ms/step - loss: 1.9210 - accuracy: 0.5281\n",
            "Epoch 14/20\n",
            "160/160 [==============================] - 0s 2ms/step - loss: 1.7240 - accuracy: 0.5362\n",
            "Epoch 15/20\n",
            "160/160 [==============================] - 0s 2ms/step - loss: 1.6303 - accuracy: 0.5219\n",
            "Epoch 16/20\n",
            "160/160 [==============================] - 0s 2ms/step - loss: 1.5544 - accuracy: 0.5325\n",
            "Epoch 17/20\n",
            "160/160 [==============================] - 1s 4ms/step - loss: 1.5004 - accuracy: 0.5362\n",
            "Epoch 18/20\n",
            "160/160 [==============================] - 1s 6ms/step - loss: 1.3874 - accuracy: 0.5512\n",
            "Epoch 19/20\n",
            "160/160 [==============================] - 1s 6ms/step - loss: 1.3175 - accuracy: 0.5369\n",
            "Epoch 20/20\n",
            "160/160 [==============================] - 1s 7ms/step - loss: 1.3062 - accuracy: 0.5369\n"
          ]
        },
        {
          "output_type": "execute_result",
          "data": {
            "text/plain": [
              "<keras.src.callbacks.History at 0x7eab701f1b40>"
            ]
          },
          "metadata": {},
          "execution_count": 20
        }
      ]
    },
    {
      "cell_type": "markdown",
      "source": [
        "## 5. Evaluate the Model"
      ],
      "metadata": {
        "id": "w-n2L_V_6Bg-"
      }
    },
    {
      "cell_type": "code",
      "source": [
        "y_pred = best_model.predict(X_test)"
      ],
      "metadata": {
        "id": "JYKom_Vq6ZgU",
        "colab": {
          "base_uri": "https://localhost:8080/"
        },
        "outputId": "7253f854-4edd-4bab-bdd2-dc74e3b9c65e"
      },
      "execution_count": 21,
      "outputs": [
        {
          "output_type": "stream",
          "name": "stdout",
          "text": [
            "13/13 [==============================] - 0s 3ms/step\n"
          ]
        }
      ]
    },
    {
      "cell_type": "code",
      "source": [
        "test_loss, test_accuracy = best_model.evaluate(X_test, y_test, verbose=0)\n",
        "\n",
        "print(f\"Test Loss: {test_loss}\")\n",
        "print(f\"Test Accuracy: {test_accuracy}\")"
      ],
      "metadata": {
        "id": "IhQfczSJ6DCI",
        "colab": {
          "base_uri": "https://localhost:8080/"
        },
        "outputId": "ed68441b-c108-41bc-c23c-5eb2ad986a53"
      },
      "execution_count": 22,
      "outputs": [
        {
          "output_type": "stream",
          "name": "stdout",
          "text": [
            "Test Loss: 1.4166847467422485\n",
            "Test Accuracy: 0.5350000262260437\n"
          ]
        }
      ]
    }
  ]
}